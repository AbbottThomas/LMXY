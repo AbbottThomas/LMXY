{
 "cells": [
  {
   "cell_type": "markdown",
   "id": "d85739e9",
   "metadata": {},
   "source": [
    "### 尝试mongodb数据库，motor异步驱动"
   ]
  },
  {
   "cell_type": "code",
   "execution_count": 5,
   "id": "2ffba673",
   "metadata": {},
   "outputs": [],
   "source": [
    "from pymongo import AsyncMongoClient"
   ]
  },
  {
   "cell_type": "code",
   "execution_count": null,
   "id": "f6140b37",
   "metadata": {},
   "outputs": [
    {
     "name": "stdout",
     "output_type": "stream",
     "text": [
      "Connected to Mongodb\n",
      "test\n"
     ]
    }
   ],
   "source": [
    "client = AsyncMongoClient(\"mongodb://localhost:27017\")\n",
    "db = client[\"test\"]\n",
    "print(\"Connected to Mongodb\")\n",
    "print(db.name)\n",
    "await client.close()"
   ]
  },
  {
   "cell_type": "code",
   "execution_count": null,
   "id": "a42c14bf",
   "metadata": {},
   "outputs": [],
   "source": []
  },
  {
   "cell_type": "code",
   "execution_count": null,
   "id": "03ca382b",
   "metadata": {},
   "outputs": [],
   "source": []
  },
  {
   "cell_type": "markdown",
   "id": "6723e440",
   "metadata": {},
   "source": [
    "### redis数据库，aioredis异步驱动"
   ]
  },
  {
   "cell_type": "code",
   "execution_count": 2,
   "id": "8a091d99",
   "metadata": {},
   "outputs": [],
   "source": [
    "import redis.asyncio as redis"
   ]
  },
  {
   "cell_type": "code",
   "execution_count": null,
   "id": "f23dae02",
   "metadata": {},
   "outputs": [
    {
     "name": "stdout",
     "output_type": "stream",
     "text": [
      "[b'name1', b'hello', b'user', b'name2', b'times']\n"
     ]
    }
   ],
   "source": [
    "pool = redis.ConnectionPool.from_url(\"redis://localhost\")\n",
    "client=redis.Redis.from_pool(pool)\n",
    "allkey = await client.keys(\"*\")\n",
    "print(allkey)\n",
    "await client.aclose()"
   ]
  },
  {
   "cell_type": "markdown",
   "id": "1f89ea5f",
   "metadata": {},
   "source": [
    "### mysql数据库，aiomysql异步驱动"
   ]
  },
  {
   "cell_type": "code",
   "execution_count": null,
   "id": "d3a0a643",
   "metadata": {},
   "outputs": [],
   "source": [
    "\n"
   ]
  },
  {
   "cell_type": "code",
   "execution_count": null,
   "id": "5a2f8c7a",
   "metadata": {},
   "outputs": [],
   "source": []
  }
 ],
 "metadata": {
  "kernelspec": {
   "display_name": "dev",
   "language": "python",
   "name": "python3"
  },
  "language_info": {
   "codemirror_mode": {
    "name": "ipython",
    "version": 3
   },
   "file_extension": ".py",
   "mimetype": "text/x-python",
   "name": "python",
   "nbconvert_exporter": "python",
   "pygments_lexer": "ipython3",
   "version": "3.13.3"
  }
 },
 "nbformat": 4,
 "nbformat_minor": 5
}
