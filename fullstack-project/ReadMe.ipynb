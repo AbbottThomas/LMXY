{
 "cells": [
  {
   "cell_type": "markdown",
   "id": "71f11068",
   "metadata": {},
   "source": [
    "## 第2版本"
   ]
  },
  {
   "cell_type": "markdown",
   "id": "0a263313",
   "metadata": {},
   "source": [
    "### Web多应用综合，初步完成demo"
   ]
  },
  {
   "cell_type": "markdown",
   "id": "e51c37f3",
   "metadata": {},
   "source": [
    "#### 目的，demo，调试日志，多层次测试，手动构建与生产部署\n",
    "  \n"
   ]
  },
  {
   "cell_type": "markdown",
   "id": "829e7d5c",
   "metadata": {},
   "source": [
    "  - 业务核心功能\n",
    "    - 核心业务梳理，模块划分\n",
    "    - 数据库设计\n",
    "    - MySQL,MongoDB,Redis异步操作\n",
    "    - 数据的CUDR服务\n",
    "    - 路由接口设计\n",
    "    - 认证授权\n",
    "    - 异常处理\n",
    "    - 安全防护\n",
    "      - 防SQL注入\n",
    "      - XSS\n",
    "      - CSFR\n",
    "    - 性能优化\n",
    "      - 缓存\n",
    "      - 异步任务\n",
    "      - 负载均衡\n",
    "      - 多进程多线程\n",
    "  - 调试和日志信息\n",
    "  - 单元测试，集成测试，端点测试，负载测试\n",
    "  - 简单手动镜像构建和生产部署"
   ]
  },
  {
   "cell_type": "markdown",
   "id": "a587fa5d",
   "metadata": {},
   "source": [
    "核心功能点:\n",
    "1. 用户注册只能通过邀请码\n",
    "2. 用户主账号可以关联两个匿名账号\n",
    "3. 朋友关系可达6度（朋友的朋友的朋友...最多6层），并且可以查看关系链\n",
    "4. 用户之间可以设置熟悉等级（陌生，了解，熟悉，信任）\n",
    "5. 用户可以关注其他用户\n",
    "6. 用户可以写博客（支持标签、草稿、搜索、评论回复），并且评论回复可以转化为帖子\n",
    "7. 用户可以对博客标记喜欢、不喜欢、收藏\n",
    "8. 用户之间可以建立私聊或群聊，聊天内容可以转化为帖子\n",
    "9. 用户可以直接创建帖子(支持标签，用户回复),可对帖子标记喜欢，不喜欢，收藏"
   ]
  },
  {
   "cell_type": "markdown",
   "id": "61bea99c",
   "metadata": {},
   "source": [
    "#### 用户应用"
   ]
  },
  {
   "cell_type": "markdown",
   "id": "39128f75",
   "metadata": {},
   "source": [
    "- 根据邀请码，注册用户\n",
    "- 用户主账号可以关联两个匿名账号。\n",
    "- 朋友关系可达6度（朋友的朋友的朋友...最多6层），并且可以查看关系链。\n",
    "- 用户之间可以设置熟悉等级（陌生，了解，熟悉，信任）。\n",
    "- 用户可以关注其他用户。"
   ]
  },
  {
   "cell_type": "markdown",
   "id": "c1010655",
   "metadata": {},
   "source": [
    "MySQL数据库设计（用于存储结构化数据，如用户信息、关系、邀请码等）\n",
    "- 用户表users\n",
    "    - id: 主键\n",
    "    - serial: 用户序列（唯一）\n",
    "    - username: 用户名（非唯一）\n",
    "    - type: anonymous|primary\n",
    "    - email: 邮箱（非唯一）\n",
    "    - phone：手机（非唯一）\n",
    "    - password_hash: 密码哈希\n",
    "    - salt: 椒盐值\n",
    "    - created_at: 创建时间\n",
    "    - last_login: 最后登录时间\n",
    "    - status: 状态（在线、禁用、隐身）\n",
    "- 用户权限表user_privileges\n",
    "    - id\n",
    "    - user_id\n",
    "    - invitation_code_num\n",
    "    - create_invitation\n",
    "    - anonymous_num\n",
    "    - create_anonymous\n",
    "    - relation_gap\n",
    "- 主账号与匿名账号关联表user_anonymous_accounts\n",
    "    - id: 主键\n",
    "    - primary_user_id: 主账号ID（外键到users.id）\n",
    "    - anonymous_user_id: 匿名账号ID（外键到users.id）\n",
    "    - created_at: 创建时间\n",
    "- 邀请码表invitation_codes\n",
    "    - code: 邀请码（主键）\n",
    "    - created_by: 创建者（可能是管理员或用户，如果允许用户生成邀请码，则记录；否则可以是系统）\n",
    "    - created_at: 创建时间\n",
    "    - used_by: 被哪个用户使用（外键到users.id，可为空）\n",
    "    - used_at: 使用时间\n",
    "- 用户关系表user_relationships，仅记录gap=0的关系\n",
    "    - id: 主键\n",
    "    - user_id: 用户ID（外键到users.id）\n",
    "    - related_user_id: 相关用户ID（外键到users.id）\n",
    "    - level: 熟悉等级（0:陌生, 1:了解, 2:熟悉, 3:信任）\n",
    "    - created_at: 关系创建时间\n",
    "    - updated_at: 最后更新时间\n",
    "- 关注表follows\n",
    "    - follower_id: 关注者ID\n",
    "    - followed_id: 被关注者ID\n",
    "    - created_at\n",
    "    - 主键 (follower_id, followed_id)\n",
    "\n",
    "注意事项：\n",
    "- 匿名账号也有朋友圈等功能，完全和主账号一样\n",
    "- 匿名账号和主账号可以互相访问对方的资源\n",
    "- 主账号为了信任机制，必须填写正确内容，匿名帐号没限制\n",
    "- 匿名账号可以销毁和重建，前期可以设定数量\n",
    "- 每个人的邀请码也可以限制数量\n",
    "- 邀请注册，邀请码和serial别人看不见\n",
    "- 朋友的定义，认为是双向都同意(可以实现沟通)，才能创建，并必须附带关系等级\n",
    "- 邀请码默认朋友，朋友相互点亮(和相互关注解耦)，关系等级\n",
    "- gap=设置值的关系链，在redis中查看，避免重复计算\n",
    "- 用户还有职业，标签，项目，技能，经历等信息，方便日后做搭配使用，现在先不设计，既可以mysql设计多个单表，也可以用mongodb存储半结构数据，方便扩展"
   ]
  },
  {
   "cell_type": "markdown",
   "id": "e7e168bc",
   "metadata": {},
   "source": [
    "#### 博客应用"
   ]
  },
  {
   "cell_type": "markdown",
   "id": "a02e47a7",
   "metadata": {},
   "source": [
    "- 用户可以写博客，支持标签，草稿，搜索，评论回复\n",
    "- 评论回复可以转换成帖子\n",
    "- 用户可以对博客标记喜欢，不喜欢，收藏"
   ]
  },
  {
   "cell_type": "markdown",
   "id": "25af396e",
   "metadata": {},
   "source": []
  },
  {
   "cell_type": "markdown",
   "id": "813025fe",
   "metadata": {},
   "source": [
    "#### 聊天应用"
   ]
  },
  {
   "cell_type": "markdown",
   "id": "c9c0beb9",
   "metadata": {},
   "source": [
    "- 用户之间可以建立私聊或群聊\n",
    "- 聊天内容可以转换成帖子"
   ]
  },
  {
   "cell_type": "markdown",
   "id": "be7d7d9d",
   "metadata": {},
   "source": []
  },
  {
   "cell_type": "markdown",
   "id": "c07b1869",
   "metadata": {},
   "source": [
    "#### 论坛应用"
   ]
  },
  {
   "cell_type": "markdown",
   "id": "29566c04",
   "metadata": {},
   "source": [
    "- 用户可以直接创建帖子，支持标签，用户回复\n",
    "- 可对帖子标记喜欢，不喜欢，收藏"
   ]
  },
  {
   "cell_type": "markdown",
   "id": "0e1f0697",
   "metadata": {},
   "source": []
  }
 ],
 "metadata": {
  "kernelspec": {
   "display_name": "dev",
   "language": "python",
   "name": "python3"
  },
  "language_info": {
   "name": "python",
   "version": "3.13.3"
  }
 },
 "nbformat": 4,
 "nbformat_minor": 5
}
