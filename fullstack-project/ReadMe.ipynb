{
 "cells": [
  {
   "cell_type": "markdown",
   "id": "71f11068",
   "metadata": {},
   "source": [
    "## 第二版本 后端全流程"
   ]
  },
  {
   "cell_type": "markdown",
   "id": "0a263313",
   "metadata": {},
   "source": [
    "### Web多应用综合，初步完成demo"
   ]
  },
  {
   "cell_type": "markdown",
   "id": "e51c37f3",
   "metadata": {},
   "source": [
    "#### 目的，demo，调试日志，多层次测试，手动构建与生产部署\n",
    "  \n"
   ]
  },
  {
   "cell_type": "markdown",
   "id": "829e7d5c",
   "metadata": {},
   "source": [
    "  - 业务核心功能\n",
    "    - 熟悉mysql,redis，mongodb及其对应异步驱动，为之后扩展迁移准备\n",
    "    - 核心业务梳理，模块划分\n",
    "    - 数据库设计\n",
    "    - MySQL,MongoDB,Redis异步操作\n",
    "    - 数据的CUDR服务\n",
    "    - 路由接口设计\n",
    "    - 认证授权\n",
    "    - 异常处理\n",
    "    - 安全防护\n",
    "      - 防SQL注入\n",
    "      - XSS\n",
    "      - CSFR\n",
    "    - 性能优化\n",
    "      - 缓存\n",
    "      - 异步任务\n",
    "      - 负载均衡\n",
    "      - 多进程多线程\n",
    "  - 调试和日志信息\n",
    "  - 单元测试，集成测试，端点测试，负载测试\n",
    "  - 简单手动镜像构建和生产部署\n"
   ]
  },
  {
   "cell_type": "markdown",
   "id": "a5a53c76",
   "metadata": {},
   "source": [
    "文件组织\n",
    "  - backend\n",
    "    - users\n",
    "      - databases 数据模型\n",
    "      - models  表模型\n",
    "      - schemas 表模型前数据模型\n",
    "      - services 表模型的CUDR\n",
    "      - api   和其他模块接口\n",
    "      - routers  路由接口\n",
    "      - static\n",
    "      - tests   单元测试\n",
    "      - utils   工具\n",
    "      - config.py  模块配置，可从env读取，或直接写死 \n",
    "      - dependencies.py\n",
    "      - exceptions.py\n",
    "    - blogs\n",
    "      - xx\n",
    "    - chats\n",
    "      - xx\n",
    "    - forum\n",
    "      - xx\n",
    "    - shops\n",
    "      - xx\n",
    "    - logs\n",
    "      - users_logs\n",
    "        - xx-xx-xx\n",
    "    - tests集成测试\n",
    "      - xx\n",
    "    - app.py\n",
    "    - main.py\n",
    "    - .env\n",
    "    - test.ipynb\n",
    "  - 项目依赖和环境管理"
   ]
  },
  {
   "cell_type": "markdown",
   "id": "a587fa5d",
   "metadata": {},
   "source": [
    "核心功能点:\n",
    "1. 用户注册只能通过邀请码\n",
    "2. 用户主账号可以关联两个匿名账号\n",
    "3. 朋友关系可达6度（朋友的朋友的朋友...最多6层），并且可以查看关系链\n",
    "4. 用户之间可以设置熟悉等级（陌生，了解，熟悉，信任）\n",
    "5. 用户可以关注其他用户\n",
    "6. 用户可以写博客（支持标签、草稿、搜索、评论回复），并且评论回复可以转化为帖子\n",
    "7. 用户可以对博客标记喜欢、不喜欢、收藏\n",
    "8. 用户之间可以建立私聊或群聊，聊天内容可以转化为帖子\n",
    "9. 用户可以直接创建帖子(支持标签，用户回复),可对帖子标记喜欢，不喜欢，收藏"
   ]
  },
  {
   "cell_type": "markdown",
   "id": "61bea99c",
   "metadata": {},
   "source": [
    "#### 用户应用"
   ]
  },
  {
   "cell_type": "markdown",
   "id": "39128f75",
   "metadata": {},
   "source": [
    "- 根据邀请码，注册用户\n",
    "- 用户主账号可以关联两个匿名账号。\n",
    "- 朋友关系可达6度（朋友的朋友的朋友...最多6层），并且可以查看关系链。\n",
    "- 用户之间可以设置熟悉等级（陌生，了解，熟悉，信任）。\n",
    "- 用户可以关注其他用户。"
   ]
  },
  {
   "cell_type": "markdown",
   "id": "c1010655",
   "metadata": {},
   "source": [
    "MySQL数据库设计（用于存储结构化数据，如用户信息、关系、邀请码等）\n",
    "- 用户表users\n",
    "    - id: 主键\n",
    "    - serial: 用户序列（唯一）\n",
    "    - username: 用户名（非唯一）\n",
    "    - type: anonymous|primary\n",
    "    - email: 邮箱（非唯一）\n",
    "    - phone：手机（非唯一）\n",
    "    - password_hash: 密码哈希\n",
    "    - salt: 椒盐值\n",
    "    - created_at: 创建时间\n",
    "    - last_login: 最后登录时间\n",
    "    - status: 状态（在线、禁用、隐身）\n",
    "- 用户权限表user_privileges\n",
    "    - id\n",
    "    - user_id\n",
    "    - invitation_code_num\n",
    "    - create_invitation\n",
    "    - anonymous_num\n",
    "    - create_anonymous\n",
    "    - relation_gap\n",
    "- 主账号与匿名账号关联表user_anonymous_accounts\n",
    "    - id: 主键\n",
    "    - primary_user_id: 主账号ID（外键到users.id）\n",
    "    - anonymous_user_id: 匿名账号ID（外键到users.id）\n",
    "    - created_at: 创建时间\n",
    "- 邀请码表invitation_codes\n",
    "    - code: 邀请码（主键）\n",
    "    - created_by: 创建者（可能是管理员或用户，如果允许用户生成邀请码，则记录；否则可以是系统）\n",
    "    - created_at: 创建时间\n",
    "    - used_by: 被哪个用户使用（外键到users.id，可为空）\n",
    "    - used_at: 使用时间\n",
    "- 用户关系表user_relationships，仅记录gap=0的关系\n",
    "    - id: 主键\n",
    "    - user_id: 用户ID（外键到users.id）\n",
    "    - related_user_id: 相关用户ID（外键到users.id）\n",
    "    - level: 熟悉等级（0:陌生, 1:了解, 2:熟悉, 3:信任）\n",
    "    - created_at: 关系创建时间\n",
    "    - updated_at: 最后更新时间\n",
    "- 关注表follows\n",
    "    - follower_id: 关注者ID\n",
    "    - followed_id: 被关注者ID\n",
    "    - created_at\n",
    "    - 主键 (follower_id, followed_id)\n"
   ]
  },
  {
   "cell_type": "markdown",
   "id": "86e0064a",
   "metadata": {},
   "source": [
    "Redis数据库设计\n",
    "- 关系缓存"
   ]
  },
  {
   "cell_type": "markdown",
   "id": "43a26e73",
   "metadata": {},
   "source": [
    "\n",
    "注意事项：\n",
    "- 匿名账号也有朋友圈等功能，完全和主账号一样\n",
    "- 匿名账号和主账号可以互相访问对方的资源\n",
    "- 主账号为了信任机制，必须填写正确内容，匿名帐号没限制\n",
    "- 匿名账号可以销毁和重建，前期可以设定数量\n",
    "- 每个人的邀请码也可以限制数量\n",
    "- 邀请注册，邀请码和serial别人看不见\n",
    "- 朋友的定义，认为是双向都同意(可以实现沟通)，才能创建，并必须附带关系等级\n",
    "- 邀请码默认朋友，朋友相互点亮(和相互关注解耦)，关系等级\n",
    "- gap=设置值的关系链，在redis中查看，避免重复计算\n",
    "- 用户还有职业，标签，项目，技能，经历等信息，方便日后做搭配使用，现在先不设计，既可以mysql设计多个单表，也可以用mongodb存储半结构数据，方便扩展"
   ]
  },
  {
   "cell_type": "markdown",
   "id": "e7e168bc",
   "metadata": {},
   "source": [
    "#### 博客应用"
   ]
  },
  {
   "cell_type": "markdown",
   "id": "a02e47a7",
   "metadata": {},
   "source": [
    "- 用户可以写博客，支持标签，草稿，搜索，评论回复\n",
    "- 评论回复可以转换成帖子\n",
    "- 用户可以对博客标记喜欢，不喜欢，收藏"
   ]
  },
  {
   "cell_type": "markdown",
   "id": "25af396e",
   "metadata": {},
   "source": [
    "MySQL数据库设计\n",
    "- 博客表blogs\n",
    "    - id: 主键\n",
    "    - user_id: 作者ID\n",
    "    - title: 标题\n",
    "    - content: 内容（文本，或者存储为文本，大文本）\n",
    "    - status: 状态（草稿、发布、私有等）\n",
    "    - created_at: 创建时间\n",
    "    - updated_at: 更新时间\n",
    "- 标签表tags\n",
    "    - id: 主键\n",
    "    - name: 标签名（唯一）\n",
    "- 博客标签关联表bog_tags\n",
    "    - blog_id\n",
    "    - tag_id\n",
    "    - 主键 (blog_id, tag_id)\n",
    "- 博客操作表blog_actions\n",
    "    - id\n",
    "    - user_id\n",
    "    - blog_id\n",
    "    - likes\n",
    "    - favorites\n",
    "- 评论表comments\n",
    "    - id: 主键\n",
    "    - user_id: 评论者ID\n",
    "    - blog_id: 博客ID（如果是对博客的评论）\n",
    "    - parent_comment_id: 父评论ID（如果是回复评论）\n",
    "    - content: 评论内容\n",
    "    - created_at\n",
    "    - updated_at\n",
    "    - is_post: 是否已经被转换成了帖子\n",
    "- 举报表\n",
    "    - user_id\n",
    "    - blog_id\n",
    "    - dislikes：设置后，自动取消喜欢和收藏\n",
    "    - report"
   ]
  },
  {
   "cell_type": "markdown",
   "id": "813025fe",
   "metadata": {},
   "source": [
    "#### 聊天应用"
   ]
  },
  {
   "cell_type": "markdown",
   "id": "c9c0beb9",
   "metadata": {},
   "source": [
    "- 用户之间可以建立私聊或群聊\n",
    "- 聊天内容可以转换成帖子"
   ]
  },
  {
   "cell_type": "markdown",
   "id": "be7d7d9d",
   "metadata": {},
   "source": [
    "MySQL数据库设计\n",
    "- 会话表conversations\n",
    "    - id: 主键\n",
    "    - type: 类型（private/group）\n",
    "    - name: 群聊名称（如果是私聊则为空）\n",
    "    - creator_id: 群聊创建者（私聊则为空）\n",
    "    - created_a\n",
    "- 会话成员表chat——members\n",
    "    - conversation_id\n",
    "    - user_id\n",
    "    - joined_at: 加入时间\n",
    "    - 主键 (conversation_id, user_id)\n",
    "- 消息表messages\n",
    "    - id: 主键\n",
    "    - conversation_id: 会话ID\n",
    "    - user_id: 发送者\n",
    "    - content: 消息内容\n",
    "    - created_at\n",
    "    - is_post"
   ]
  },
  {
   "cell_type": "markdown",
   "id": "954d0ded",
   "metadata": {},
   "source": [
    "Mongodb数据库设计"
   ]
  },
  {
   "cell_type": "markdown",
   "id": "a279240a",
   "metadata": {},
   "source": [
    "注意事项：\n",
    "- Mongodb暂存，转换到Mysql,后面熟悉了，逐步过渡到Mongodb"
   ]
  },
  {
   "cell_type": "markdown",
   "id": "c07b1869",
   "metadata": {},
   "source": [
    "#### 论坛应用"
   ]
  },
  {
   "cell_type": "markdown",
   "id": "29566c04",
   "metadata": {},
   "source": [
    "- 用户可以直接创建帖子，支持标签，用户回复\n",
    "- 可对帖子标记喜欢，不喜欢，收藏"
   ]
  },
  {
   "cell_type": "markdown",
   "id": "0e1f0697",
   "metadata": {},
   "source": [
    "MySQL数据库设计\n",
    "- 帖子表posts\n",
    "    - id: 主键\n",
    "    - user_id: 发帖人ID\n",
    "    - title: 标题（可能为空，因为由评论转化的帖子可能没有标题）\n",
    "    - parent：上一个帖子，被转换的也有\n",
    "    - content: 内容\n",
    "    - source_type: comment|chat|direct\n",
    "    - source_id\n",
    "    - created_at\n",
    "    - updated_at\n",
    "- 帖子标签表tags，不用论坛的分类，用标签，多对多，更灵活\n",
    "- 帖子标签关联表post_tags\n",
    "- 帖子操作表post_actions"
   ]
  },
  {
   "cell_type": "markdown",
   "id": "0566cc49",
   "metadata": {},
   "source": []
  },
  {
   "cell_type": "markdown",
   "id": "69b00df3",
   "metadata": {},
   "source": [
    "## 第三版本 多端前端"
   ]
  },
  {
   "cell_type": "markdown",
   "id": "ea22ceb3",
   "metadata": {},
   "source": [
    "### Vue项目设计及学习\n"
   ]
  },
  {
   "cell_type": "markdown",
   "id": "0294d1c5",
   "metadata": {},
   "source": [
    "不同颗粒度原型设计，对产品功能、界面结构、交互等方面进行定义\n",
    "  - 粗颗粒度\n",
    "    - 产品的整体框架和核心功能\n",
    "    - 不关注细节，快速验证产品和基本概念和方向\n",
    "    - 手绘草稿，简单工具\n",
    "    - 初步沟通，确认产品方向，快速迭代，探索多种可能性\n",
    "  - 中颗粒度\n",
    "    - 增加了更多细节，包括页面的布局，交互设计，部分视觉元素\n",
    "    - 详细布局：明确页面布局，控件摆放，页面之间的跳转关系\n",
    "    - 交互设计：包含基本的交互逻辑，如按钮点击，表单提交等\n",
    "    - 视觉初步：包含简单的视觉设计元素，如颜色，字体等，但不追求整体的效果\n",
    "    - 交互流程图：详细展示页面之间跳转逻辑和交互细节\n",
    "    - 应用场景：产品设计阶段，详细规划产品的功能和交互，明确开发需求，用户测试并收集反馈\n",
    "  - 细颗粒度\n",
    "    - 每一个细节精心设计，包括完整的视觉设计，交互细节，动画效果等\n",
    "    - 完整视觉：完整的视觉设计，包括颜色，字体，图标等，与最终产品一致\n",
    "    - 精细交互：包含所有交互细节，如动画效果，过渡效果等\n",
    "    - 高度保真：几乎与最终产品一致，用于用户测试和验收\n",
    "    - 产品开发阶段，用于知道开发人员进行界面开发\n",
    "    - 用户测试阶段，用于收集用户对最终产品的反馈\n",
    "    - 产品验收阶段，用于确认产品是否符合设计要求\n",
    "    - 高保真原型工具：Figma，Sketch等\n",
    "    - 可交互的动画原型工具：Principle，Framer等"
   ]
  },
  {
   "cell_type": "markdown",
   "id": "ea1c0793",
   "metadata": {},
   "source": [
    "功能，模块和文件组织划分\n",
    "- api请求模块化\n",
    "  - moduleA.js\n",
    "  - moduleB.js\n",
    "- 基础组件components\n",
    "  - common 公共组件, Element Plus组件的二次封装，Bootstrap组件二次封装\n",
    "  - 模块A 模块专用组件\n",
    "  - 模块B\n",
    "- 工具组件\n",
    "- 页面组件\n",
    "  - 模块A\n",
    "    - Page1.vue\n",
    "    - Page2.vue\n",
    "  - 模块B\n",
    "    - Page1.vue\n",
    "    - Page2.vue\n",
    "- 路由配置\n",
    "- 状态管理\n",
    "- 全局样式\n",
    "- 测试文件\n",
    "- 根组件\n",
    "- 应用入口"
   ]
  },
  {
   "cell_type": "markdown",
   "id": "2c734cc3",
   "metadata": {},
   "source": [
    "学习体验\n",
    "- Axio\n",
    "- Mock.js"
   ]
  },
  {
   "cell_type": "markdown",
   "id": "00fd9a62",
   "metadata": {},
   "source": [
    "### 项目demo"
   ]
  },
  {
   "cell_type": "markdown",
   "id": "113c7bb7",
   "metadata": {},
   "source": [
    "大屏网页"
   ]
  },
  {
   "cell_type": "markdown",
   "id": "b6b9dff0",
   "metadata": {},
   "source": [
    "桌面应用"
   ]
  },
  {
   "cell_type": "markdown",
   "id": "d854c67d",
   "metadata": {},
   "source": [
    "移动应用"
   ]
  },
  {
   "cell_type": "markdown",
   "id": "e4ffe831",
   "metadata": {},
   "source": [
    "移动网页"
   ]
  },
  {
   "cell_type": "markdown",
   "id": "a6a049f2",
   "metadata": {},
   "source": [
    "## 第四版本 算法开发"
   ]
  }
 ],
 "metadata": {
  "kernelspec": {
   "display_name": "dev",
   "language": "python",
   "name": "python3"
  },
  "language_info": {
   "name": "python",
   "version": "3.13.3"
  }
 },
 "nbformat": 4,
 "nbformat_minor": 5
}
