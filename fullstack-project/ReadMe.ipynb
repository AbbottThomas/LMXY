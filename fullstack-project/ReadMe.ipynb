{
 "cells": [
  {
   "cell_type": "markdown",
   "id": "71f11068",
   "metadata": {},
   "source": [
    "## <center>第二版本 后端全流程</center>"
   ]
  },
  {
   "cell_type": "markdown",
   "id": "e51c37f3",
   "metadata": {},
   "source": [
    "### <center>目的</center>\n",
    "Web多应用综合demo，调试日志，多层次测试，手动构建与生产部署，CICD，运维"
   ]
  },
  {
   "cell_type": "markdown",
   "id": "829e7d5c",
   "metadata": {},
   "source": [
    "- 基础知识\n",
    "  - 熟悉mysql,redis，mongodb及其对应异步驱动，为之后扩展迁移准备\n",
    "  - MySQL,MongoDB,Redis异步操作\n",
    "  - 配置并读取配置文件\n",
    "  - 配置logging文件\n",
    "  - pytest编写和测试\n",
    "  - faker，mock和client\n",
    "  - fastapi的请求，响应，参数，依赖，中间件，文档等\n",
    "- 业务核心功能demo\n",
    "  - <span style=\"color:black;background-color:yellow\">**核心业务梳理，模块划分**</span>\n",
    "  - <span style=\"color:black;background-color:yellow\">**数据表设计**</span>\n",
    "  - <span style=\"color:black;background-color:yellow\">**路由接口设计**</span>\n",
    "  - 数据的CUDR服务\n",
    "  - 认证授权\n",
    "  - 异常处理\n",
    "  - 安全防护\n",
    "    - 防SQL注入\n",
    "    - XSS\n",
    "    - CSFR\n",
    "  - 性能优化\n",
    "    - 缓存\n",
    "    - 异步任务\n",
    "    - 负载均衡\n",
    "    - 多进程多线程\n",
    "- 调试和日志信息\n",
    "- 单元测试，集成测试，端点测试，负载测试\n",
    "- 简单手动镜像构建和生产部署\n",
    "- 文件组织管理\n",
    "- CI/CD部署\n",
    "- 运维\n",
    "  - Prometheus/Grafana,用于监控和可视化应用性能\n",
    "  - Wazuh：功能全面，开源免费的安全监控和入侵检测平台"
   ]
  },
  {
   "cell_type": "markdown",
   "id": "b5648994",
   "metadata": {},
   "source": [
    "#### 文件组织\n",
    "不用应用挂载，应用间通信麻烦，用子路由挂载"
   ]
  },
  {
   "cell_type": "markdown",
   "id": "96e14a92",
   "metadata": {},
   "source": [
    "##### 项目根目录\n",
    "- backend\n",
    "  - blogs\n",
    "  - forum\n",
    "  - shops\n",
    "  - users\n",
    "  - logs文件夹\n",
    "    - dev_file.log\n",
    "  - tests 集成测试\n",
    "  - databases文件夹 \n",
    "    - mysql_database.py\n",
    "      - 读取配置\n",
    "      - 创建引擎\n",
    "      - 关闭引擎\n",
    "      - 数据库初始化函数：表的创建\n",
    "      - 会话依赖项\n",
    "      - 调试日志信息添加\n",
    "      - 对应测试代码添加？\n",
    "    - redis_database.py\n",
    "    - mongodb_database.py\n",
    "  - app.py \n",
    "    - 启动关闭的钩子函数\n",
    "    - 数据库初始化\n",
    "    - 子路由挂载\n",
    "    - 子应用挂载\n",
    "    - 中间件CORS配置\n",
    "    - 添加异常处理\n",
    "  - main.py： 多进程启动uvicorn\n",
    "  - test.ipynb\n",
    "- .pixi\n",
    "- README.md\n",
    "\n"
   ]
  },
  {
   "cell_type": "markdown",
   "id": "b74554cb",
   "metadata": {},
   "source": [
    "##### configs\n",
    "- .env 环境变量，数据库链接等设置对象里的内容\n",
    "- settings_config.py 读取env文件并创建settings对象\n",
    "- env_logconfig.py 根据环境，配置日志器\n",
    "- logging_dev.yaml 开发模式，是单文件覆盖日志器\n",
    "- logging_prod.yaml 不同级别不同文件等\n",
    "- loggingdict_config.py 快速开发，字典配置日志器范例\n",
    "  \n"
   ]
  },
  {
   "cell_type": "markdown",
   "id": "6fb086b8",
   "metadata": {},
   "source": [
    "##### models  表模型\n",
    "- enums.py or comtype.py   \n",
    "  - 公共类型部分\n",
    "  - 枚举类型\n",
    "  - 自定义类型等\n",
    "- 通用\n",
    "  - 表设计标准和方法\n",
    "    - 设计范式了解\n",
    "    - 以梳理后的功能，AI生成表设计\n",
    "    - 以完成业务核心功能为目的再检验\n",
    "    - 复制简化修改调试异常和测试\n",
    "  - SQLModel数据模型\n",
    "    - 同BaseModel数据模型，表模型相关的响应和请求，甚至是表模型的视图；序列化和数据验证\n",
    "    - 公共字段，方便其他表模型继承调用\n",
    "    - 该模型可以在设计路由接口时，再完善\n",
    "  - SQLModel表模型\n",
    "\n"
   ]
  },
  {
   "cell_type": "markdown",
   "id": "ee333ab5",
   "metadata": {},
   "source": [
    "##### 路径接口的依赖多文件\n",
    "- schemas 表模型前数据模型\n",
    "  - 通用，般是在设计路由接口时填写\n",
    "    - 和表模型不相关的数据模型\n",
    "- services 表模型的CUDR\n",
    "  - 通用，一般是根据路由接口的设计来完成基本的CUDR\n",
    "- api   和其他模块接口\n",
    "  - xx\n"
   ]
  },
  {
   "cell_type": "markdown",
   "id": "6065e3ec",
   "metadata": {},
   "source": [
    "##### routers文件  路由接口\n"
   ]
  },
  {
   "cell_type": "markdown",
   "id": "dbafb097",
   "metadata": {},
   "source": [
    "路由接口设计标准和方法\n",
    "- URL接口设计，RestFul接口规范\n",
    "  - 路径和参数名称\n",
    "    - 每个链接都是名词，是资源\n",
    "    - 不同申请方法，对应者同个资源的不同操作\n",
    "    - 分层设计，按功能拆分路由\n",
    "    - 版本控制，路径中加入版本号，或自定义标头/请求参数实现\n",
    "  - 请求与响应规范\n",
    "    - 请求验证，利用 Pydantic 模型定义请求体、查询参数，自动生成文档并校验数据（如字段类型、必填项）\n",
    "    - 响应模型，通过 response_model 指定返回数据结构，隐藏敏感字段（如密码）\n",
    "    - 状态码明确，正确使用 HTTP 状态码（如 201 创建成功，404 资源不存在）\n",
    "- 常见功能模块的CUDR的RestFul的命名规则，从中简化修改调试异常和测试\n",
    "\n"
   ]
  },
  {
   "cell_type": "markdown",
   "id": "0236f08d",
   "metadata": {},
   "source": [
    "通用 \n",
    "  - router对象的前缀，标签\n",
    "  - 接口设计\n",
    "    - 路径名称，函数名称，请求方法，响应数据，状态响应码\n",
    "    - 参数\n",
    "      - 查询参数和路径参数\n",
    "      - 请求头和响应头\n",
    "      - 请求体和响应体\n",
    "      - 版本控制\n",
    "  - 完成业务功能，表模型的services的二次封装，完成需要的srvices,models和schemas的支持\n",
    "    - 异步支持\n",
    "    - 参数，请求和响应，数据模型，表模型\n",
    "      - 序列化和反序列化\n",
    "      - 数据验证\n",
    "      - 数据过滤和解析\n",
    "    - 依赖项复用\n",
    "  - 中间件功能\n",
    "    - 日志、监控、跨域等基础设施\n",
    "    - 全局或子路由前缀\n",
    "    - 修改请求和响应\n",
    "    - 拦截异常\n",
    "    - 实现与业务逻辑解耦的横切关注点，日志记录，性能监控，权限预检测等\n",
    "    - 常见使用场景\n",
    "      - CORS处理\n",
    "      - 请求耗时统计\n",
    "      - IP白名单过滤\n",
    "      - 敏感数据脱敏\n",
    "      - 响应缓存\n",
    "  - 异常处理\n",
    "    - 自定义异常\n",
    "    - 全局捕获\n",
    "  - 添加调试日志信息\n",
    "  - 对应测试代码添加\n",
    "\n"
   ]
  },
  {
   "cell_type": "markdown",
   "id": "74bb4cc8",
   "metadata": {},
   "source": [
    "##### static 静态文件挂载文件夹\n",
    "  - xx\n",
    "  \n"
   ]
  },
  {
   "cell_type": "markdown",
   "id": "6948ec8b",
   "metadata": {},
   "source": [
    "##### tests   单元测试\n",
    "- test_models.py\n",
    "- test_services.py\n"
   ]
  },
  {
   "cell_type": "markdown",
   "id": "772e3dc2",
   "metadata": {},
   "source": [
    "utils   工具文件夹\n",
    "  - xx\n"
   ]
  },
  {
   "cell_type": "markdown",
   "id": "c3e3b45e",
   "metadata": {},
   "source": [
    "##### exceptions 异常处理文件夹"
   ]
  },
  {
   "cell_type": "markdown",
   "id": "79a2645a",
   "metadata": {},
   "source": [
    "##### dependencies依赖项文件夹"
   ]
  },
  {
   "cell_type": "markdown",
   "id": "a587fa5d",
   "metadata": {},
   "source": [
    "### 业务梳理:\n",
    "核心理念\n",
    "1. 人聚集在一起，建立能成事的信任，能有钱的希望\n",
    "2. 打造超级个体的通道，未来的趋势 ---- 学习工具，资源商城，成果证明，建立信任和希望\n",
    "3. 相互学习赚钱知识 ---- 灵感源泉，博客，论坛，聊天\n",
    "4. 构建小精尖团队基础，促进合作项目的达成 ------ 信任，项目合作\n",
    "   - 朋友的朋友，建立合作的信任\n",
    "     - 品格靠谱(利益分配少冲突)\n",
    "     - 做事靠谱(答应能做到)\n",
    "     - 性格靠谱(失败不埋怨，不打击人信心)\n",
    "   - 需求发现(身边的事情，确认做出了一定可以卖出去)\n",
    "   - 研发设计\n",
    "   - 生产制作(前期建议不做，有成本负担)\n",
    "   - 宣传营销(利润永久分红，网红的带货模式不可能持久，网红不可能永远红)\n",
    "   - 打造被动收入，被动分红"
   ]
  },
  {
   "cell_type": "markdown",
   "id": "d5273883",
   "metadata": {},
   "source": [
    "现实痛点就是未来的机会；   \n",
    "基于目前条件，对未来做出判断\n",
    "- 痛点\n",
    "  - 没有钱：\n",
    "    - 国家战略，企业竞争力，低价的产品，需要大量低成本人口，人口红利\n",
    "    - 国富民弱，有利于稳定，还是国富民强，有利于稳定。国家而言，稳定优于发展\n",
    "    - 贫民高税，富人逃税，五险一金，食品安全，医疗卫生，根本就没想过让人有钱\n",
    "  - 没有时间，无法陪伴：\n",
    "    - 父母突然老去，很多东西都不会，用了不健康的东西都不知道，牙齿慢慢掉了\n",
    "    - 子女的陪伴\n",
    "  - 没有地位,随时被替代：\n",
    "    - 资本主义特征，保持大量失业人口，让企业可以低成本用人\n",
    "    - 老板希望打工人都可以被替代，希望打工人不能掌握全部技术，希望打工人价格越低越好\n",
    "  - 害怕被淘汰：没有额外的谋生手段，额外的选择，不能独立生产和交换\n",
    "    - 技术上不能全栈\n",
    "    - 宣传花钱\n",
    "    - 生产制造花钱\n",
    "    - 限制太多\n",
    "  - 看不到希望\n",
    "    - 学术\n",
    "    - 工作\n",
    "    - 副业，贩卖时间，高内卷，没有被动收入\n",
    "    - 创业，高成本，高风险\n",
    "- 机会\n",
    "  - 不以赚钱为目的，探索打造一条低成本的退路，一条可以有被动收入的希望之路，~~一条让你有时间陪伴子女，有时间随父母一切慢慢变老，让你不在害怕被淘汰~~\n",
    "  - 重塑朋友圈，高效的利用朋友圈，在朋友圈间学习，创建项目，合作项目，共同的经历就是信任基础\n",
    "  - 过去的朋友们，联系越来越少，共同话题越来越少，即时内心有你的位置，但现实就是未来几乎没有什么连接了，除了共同勉忆回忆，似乎就没什么作用了\n",
    "  - 一起经历的过往不是没有用了，而是没有用到，即时经历社会的风霜，外表变了，看法变了，内心变了，但是最初的本质还在，在某个回首的瞬间，你还是你\n",
    "- 目前条件\n",
    "  - 宣传成本变低\n",
    "  - 学习变得高效\n",
    "  - 需求发现上\n",
    "  - 已认识的朋友，可以更紧密的连接\n",
    "    - 品格靠谱\n",
    "    - 做事靠谱\n",
    "    - 性格靠谱\n",
    "- 未来的判断\n",
    "  - AI时代的代理，所带来的影响验证\n",
    "  - 以前的发展情况\n",
    "    - 社会发展角度\n",
    "      - 原始社会\n",
    "      - 奴隶社会，封建社会，资本社会\n",
    "      - 社会主义社会？共产社会\n",
    "      - 资本共产机器社会，根本解决不平等抽取劳动成果问题\n",
    "    - 商品角度\n",
    "      - 科学技术\n",
    "      - 组织管理\n",
    "      - 研发\n",
    "      - 制造\n",
    "      - 仓库\n",
    "      - 宣传\n",
    "      - 门店\n",
    "      - 营销\n",
    "      - 使用\n",
    "      - 售后\n",
    "  - AI影响带来的新的情况\n",
    "  - 超级个体\n",
    "  - 小精尖团队"
   ]
  },
  {
   "cell_type": "markdown",
   "id": "a2187589",
   "metadata": {},
   "source": [
    "核心功能点粗规划\n",
    "1. 用户注册只能通过邀请码\n",
    "2. 用户主账号可以关联两个匿名账号\n",
    "3. 朋友关系可达6度（朋友的朋友的朋友...最多6层），并且可以查看关系链\n",
    "4. 用户之间可以设置熟悉等级（陌生，了解，熟悉，信任）\n",
    "5. 用户可以关注其他用户\n",
    "6. 用户可以写博客（支持标签、草稿、搜索、评论回复），并且评论回复可以转化为帖子\n",
    "7. 用户可以对博客标记喜欢、不喜欢、收藏\n",
    "8. 用户之间可以建立私聊或群聊，聊天内容可以转化为帖子\n",
    "9. 用户可以直接创建帖子(支持标签，用户回复),可对帖子标记喜欢，不喜欢，收藏"
   ]
  },
  {
   "cell_type": "markdown",
   "id": "692c0619",
   "metadata": {},
   "source": [
    "#### 模块划分\n",
    "- 用户应用：信任基础，提供项目想法，提供人选，提供求合作项目，促进项目合作\n",
    "- 博客应用：朋友圈学习相关赚钱知识，激发灵感\n",
    "- 论坛应用：谈论学习，激发灵感\n",
    "- 聊天应用：进一步洽谈项目合作\n",
    "- 学习工具：验证高效的学习，给人信任和希望\n",
    "- 商城应用：给爱学习的人一个退路，被动收入"
   ]
  },
  {
   "cell_type": "markdown",
   "id": "61bea99c",
   "metadata": {},
   "source": [
    "#### 用户应用\n"
   ]
  },
  {
   "cell_type": "markdown",
   "id": "61d0cb24",
   "metadata": {},
   "source": [
    "##### 模块业务梳理\n",
    "1. 不受限制的理清业务\n",
    "2. 尽可能的简化实现\n",
    "3. 用最简单的方法和技术，用成熟的方法和技术"
   ]
  },
  {
   "cell_type": "markdown",
   "id": "2215efd8",
   "metadata": {},
   "source": [
    "ER实体关系图，用例图，时序图\n",
    "- 行为与流程类图表\n",
    "  - 活动图\n",
    "  - 状态图\n",
    "- 结构与交互类图\n",
    "  - 组件图\n",
    "  - 通信图，强调对象间的消息传递顺序和协作关系（与时序图互补）\n",
    "- 数据与架构图\n",
    "  - 数据流图"
   ]
  },
  {
   "cell_type": "markdown",
   "id": "26486c73",
   "metadata": {},
   "source": [
    "使用场景\n",
    "- 访客圈：新鲜血液，不能主动，匹配候选，额外的可能，限额总数\n",
    "  - 没有建立朋友圈层的人\n",
    "  - 匿名账户默认为访客\n",
    "  - ~~访客只能访问公开资料~~\n",
    "  - 访客不能主动访问朋友圈内部资料，但会根据特点，匹配到朋友圈，不能隐藏技能等信息，是候选朋友\n",
    "  - 所有人可主动访问的资料为公开资料\n",
    "- 管理员，用户，访客，匿名账户\n",
    "  - 管理员是所有的根\n",
    "  - 有不同的朋友圈\n",
    "  - 其他的朋友圈的人就是访客等级\n",
    "  - 匿名账户相等于被推荐到朋友圈的访客\n",
    "- 朋友圈：提供信任，提供基础信息，促进合作\n",
    "  - 提供真实的信息，经历，经验，技能。（如果想合作可以追溯到靠谱的真人）\n",
    "  - 朋友链\n",
    "  - 朋友圈可以访问内部资料\n",
    "  - 可以根据朋友等级访问个人资料\n",
    "  - 可以根据添加的人员访问项目保密资料\n",
    "- 项目：提供项目信息，促进合作\n",
    "  - 组成：想法，市场信息，市场需求，研发，制造，物流和仓库，宣传和营销\n",
    "  - 查看项目(自己的，关注的，别人的)\n",
    "  - 靠谱人员推荐后，自己去联系，至少能沟通\n",
    "  - 前期靠朋友介绍，后面靠信誉评级"
   ]
  },
  {
   "cell_type": "markdown",
   "id": "00aed4db",
   "metadata": {},
   "source": [
    "信任基础，提供项目想法，提供人选，提供求合作项目，促进项目合作  \n",
    "核心概念，实体关系图\n",
    "- 邀请码：加入朋友链\n",
    "- 用户\n",
    "  - 基础信息\n",
    "    - 用户名\n",
    "    - 名字\n",
    "    - 密码\n",
    "    - 邮箱\n",
    "    - 手机\n",
    "  - 学习信息\n",
    "    - 经历\n",
    "    - 经验\n",
    "    - 技能\n",
    "    - 正在学\n",
    "    - 想学\n",
    "  - 项目信息\n",
    "    - 项目关注\n",
    "    - 查看自己\n",
    "    - 查看别人\n",
    "    - 查看关注\n",
    "    - 推荐靠谱朋友链中的朋友\n",
    "    - 推荐靠谱的客人\n",
    "  - 朋友信息\n",
    "    - 朋友圈\n",
    "    - 朋友链\n",
    "    - 1代朋友\n",
    "    - 2代朋友(朋友的朋友)\n",
    "    - 3代\n",
    "    - 4代\n",
    "    - 5代\n",
    "    - 6代\n",
    "  - 客人信息\n",
    "    - 被非朋友关注了\n",
    "    - 关注非朋友\n",
    "  - 匿名账户\n",
    "- 访客\n",
    "  - 访客，针对不同的朋友圈，或用户\n",
    "  - 关注用户，也就是关注朋友圈，一个用户只有一个朋友圈\n",
    "  - 访客等级\n",
    "    - 1级，只能访问公开资料\n",
    "    - 2级，被推荐的访客，可以访问内部资料\n",
    "    - 3级，正在项目合作的访客，可以访问项目保密资料\n",
    "    - 如果想要访问朋友个人资料，及查看朋友链关系，跨朋友链合作，只能线下长期相处，然后申请邀请码\n",
    "- 朋友\n",
    "- 匿名账户\n",
    "- 项目"
   ]
  },
  {
   "cell_type": "markdown",
   "id": "ff7cceca",
   "metadata": {},
   "source": [
    "- 邀请码，朋友，匿名账户，访客\n",
    "  - 创建分享邀请码\n",
    "  - 查看可以邀请总数，已经邀请数\n",
    "  - 有邀请码，某个朋友圈的朋友\n",
    "  - 无邀请码，访客\n",
    "  - 匿名账号为一级访客，同被推荐给朋友圈的访客，候选朋友\n",
    "  - 一般访客为二级访客，只能主动访问公开资料\n",
    "- 访客\n",
    "  - 注册\n",
    "  - 根据邀请码，确认加入朋友圈，成为一条朋友圈的朋友\n",
    "- 关注和粉丝：访客和朋友圈的互动\n",
    "  - 针对不同朋友圈的人，也就是访客；后期会根据关键人员和关键信誉来跨朋友圈推送\n",
    "  - 创建和删除\n",
    "  - 查看\n",
    "  - 统计\n",
    "- 朋友\n",
    "  - 创建逻辑：目前比较严格，只能通过邀请码，口头审核，真实相处过\n",
    "  - 设置等级\n",
    "  - 统计分析，缓存在redis中\n",
    "    - 朋友总数\n",
    "    - 不同等级朋友数\n",
    "  - 查看朋友链，存在mongdb中，缓存在redis中\n",
    "- 项目\n",
    "\n",
    "- 主账号和匿名账号\n",
    "  - 不同账户间不能共享朋友圈，只能通过邀请码建立朋友"
   ]
  },
  {
   "cell_type": "markdown",
   "id": "39128f75",
   "metadata": {},
   "source": [
    "- 根据邀请码，注册用户\n",
    "- 根据用户名，登录主用户，不能登录匿名用户\n",
    "- 朋友关系可达6度（朋友的朋友的朋友...最多6层），并且可以查看关系链。\n",
    "- 用户之间可以设置熟悉等级（陌生，了解，熟悉，信任）。\n",
    "- 用户可以关注其他用户。\n",
    "- 用户可以查看关注的用户，粉丝和朋友\n",
    "- 朋友关系是独立与关注的，需要双方的设定或满足一定条件自动晋升\n",
    "- 用户主账号可以关联多个匿名账号，并选择匿名账号\n",
    "- 用户可以给某个朋友，让其他匿名账户关注"
   ]
  },
  {
   "cell_type": "markdown",
   "id": "e5a50c76",
   "metadata": {},
   "source": [
    "##### 数据表设计"
   ]
  },
  {
   "cell_type": "markdown",
   "id": "c1010655",
   "metadata": {},
   "source": [
    "MySQL数据库设计（用于存储结构化数据，如用户信息、关系、邀请码等）\n",
    "- 用户表user\n",
    "    - id: 主键\n",
    "    - serial: 用户序列（唯一,索引）\n",
    "    - username: 用户名（非唯一）\n",
    "    - type: anonymous|primary\n",
    "    - email: 邮箱（非唯一）\n",
    "    - phone：手机（非唯一）\n",
    "    - password_hash: 密码哈希\n",
    "    - salt: 椒盐值\n",
    "    - created_at: 创建时间\n",
    "    - last_login: 最后登录时间\n",
    "    - status: 状态（在线、禁用、隐身）\n",
    "- 用户权限表user_privilege\n",
    "    - id\n",
    "    - user_id\n",
    "    - invitation_code_num 总共拥有的邀请码总数\n",
    "    - create_invitation_num 已经用了的邀请码个数\n",
    "    - anonymous_num 总共可以拥有的匿名账号数量\n",
    "    - create_anonymous_num 已经创建的匿名账号数量\n",
    "    - relation_gap 设定的查看几度朋友链\n",
    "- 主账号与匿名账号关联表user_anonymous_account\n",
    "    - id: 主键\n",
    "    - primary_user_id: 主账号ID（外键到users.id）\n",
    "    - anonymous_user_id: 匿名账号ID（外键到users.id）\n",
    "    - created_at: 创建时间\n",
    "- 邀请码表invitation_code\n",
    "    - code: 邀请码（主键）\n",
    "    - created_by: 创建者（可能是管理员或用户，如果允许用户生成邀请码，则记录；否则可以是系统）\n",
    "    - created_at: 创建时间\n",
    "    - used_by: 被哪个用户使用（外键到users.id，可为空）\n",
    "    - used_at: 使用时间\n",
    "- 用户关系表user_relationship，仅记录gap=0的关系\n",
    "    - id: 主键\n",
    "    - user_id: 用户ID（外键到users.id）\n",
    "    - related_user_id: 相关用户ID（外键到users.id）\n",
    "    - level: 熟悉等级（0:陌生, 1:了解, 2:熟悉, 3:信任）\n",
    "    - created_at: 关系创建时间\n",
    "    - updated_at: 最后更新时间\n",
    "- 关注表follow\n",
    "    - follower_id: 关注者ID\n",
    "    - followed_id: 被关注者ID\n",
    "    - created_at\n",
    "    - 主键 (follower_id, followed_id)\n"
   ]
  },
  {
   "cell_type": "markdown",
   "id": "86e0064a",
   "metadata": {},
   "source": [
    "Redis数据库设计\n",
    "- 关系缓存"
   ]
  },
  {
   "cell_type": "markdown",
   "id": "43a26e73",
   "metadata": {},
   "source": [
    "注意事项：\n",
    "- 匿名账号也有朋友圈等功能，完全和主账号一样\n",
    "- 匿名账号和主账号可以互相访问对方的资源\n",
    "- 主账号为了信任机制，必须填写正确内容，匿名帐号没限制\n",
    "- 匿名账号可以销毁和重建，前期可以设定数量\n",
    "- 每个人的邀请码也可以限制数量\n",
    "- 邀请注册，邀请码和serial别人看不见\n",
    "- 朋友的定义，认为是双向都同意(可以实现沟通)，才能创建，并必须附带关系等级\n",
    "- 邀请码默认朋友，朋友相互点亮(和相互关注解耦)，关系等级\n",
    "- gap=设置值的关系链，在redis中查看，避免重复计算\n",
    "- 用户还有职业，标签，项目，技能，经历等信息，方便日后做搭配使用，现在先不设计，既可以mysql设计多个单表，也可以用mongodb存储半结构数据，方便扩展"
   ]
  },
  {
   "cell_type": "markdown",
   "id": "b189d2e1",
   "metadata": {},
   "source": [
    "##### 路由接口设计"
   ]
  },
  {
   "cell_type": "markdown",
   "id": "e7e168bc",
   "metadata": {},
   "source": [
    "#### 博客应用"
   ]
  },
  {
   "cell_type": "markdown",
   "id": "a02e47a7",
   "metadata": {},
   "source": [
    "- 用户可以写博客，支持标签，草稿，搜索，评论回复\n",
    "- 评论回复可以转换成帖子\n",
    "- 用户可以对博客标记喜欢，不喜欢，收藏"
   ]
  },
  {
   "cell_type": "markdown",
   "id": "25af396e",
   "metadata": {},
   "source": [
    "MySQL数据库设计\n",
    "- 博客表blogs\n",
    "    - id: 主键\n",
    "    - user_id: 作者ID\n",
    "    - title: 标题\n",
    "    - content: 内容（文本，或者存储为文本，大文本）\n",
    "    - status: 状态（草稿、发布、私有等）\n",
    "    - created_at: 创建时间\n",
    "    - updated_at: 更新时间\n",
    "- 标签表tags\n",
    "    - id: 主键\n",
    "    - name: 标签名（唯一）\n",
    "- 博客标签关联表bog_tags\n",
    "    - blog_id\n",
    "    - tag_id\n",
    "    - 主键 (blog_id, tag_id)\n",
    "- 博客操作表blog_actions\n",
    "    - id\n",
    "    - user_id\n",
    "    - blog_id\n",
    "    - likes\n",
    "    - favorites\n",
    "- 评论表comments\n",
    "    - id: 主键\n",
    "    - user_id: 评论者ID\n",
    "    - blog_id: 博客ID（如果是对博客的评论）\n",
    "    - parent_comment_id: 父评论ID（如果是回复评论）\n",
    "    - content: 评论内容\n",
    "    - created_at\n",
    "    - updated_at\n",
    "    - is_post: 是否已经被转换成了帖子\n",
    "- 举报表\n",
    "    - user_id\n",
    "    - blog_id\n",
    "    - dislikes：设置后，自动取消喜欢和收藏\n",
    "    - report"
   ]
  },
  {
   "cell_type": "markdown",
   "id": "813025fe",
   "metadata": {},
   "source": [
    "#### 聊天应用"
   ]
  },
  {
   "cell_type": "markdown",
   "id": "c9c0beb9",
   "metadata": {},
   "source": [
    "- 用户之间可以建立私聊或群聊\n",
    "- 聊天内容可以转换成帖子"
   ]
  },
  {
   "cell_type": "markdown",
   "id": "be7d7d9d",
   "metadata": {},
   "source": [
    "MySQL数据库设计\n",
    "- 会话表conversations\n",
    "    - id: 主键\n",
    "    - type: 类型（private/group）\n",
    "    - name: 群聊名称（如果是私聊则为空）\n",
    "    - creator_id: 群聊创建者（私聊则为空）\n",
    "    - created_a\n",
    "- 会话成员表chat——members\n",
    "    - conversation_id\n",
    "    - user_id\n",
    "    - joined_at: 加入时间\n",
    "    - 主键 (conversation_id, user_id)\n",
    "- 消息表messages\n",
    "    - id: 主键\n",
    "    - conversation_id: 会话ID\n",
    "    - user_id: 发送者\n",
    "    - content: 消息内容\n",
    "    - created_at\n",
    "    - is_post"
   ]
  },
  {
   "cell_type": "markdown",
   "id": "954d0ded",
   "metadata": {},
   "source": [
    "Mongodb数据库设计"
   ]
  },
  {
   "cell_type": "markdown",
   "id": "a279240a",
   "metadata": {},
   "source": [
    "注意事项：\n",
    "- Mongodb暂存，转换到Mysql,后面熟悉了，逐步过渡到Mongodb"
   ]
  },
  {
   "cell_type": "markdown",
   "id": "c07b1869",
   "metadata": {},
   "source": [
    "#### 论坛应用"
   ]
  },
  {
   "cell_type": "markdown",
   "id": "29566c04",
   "metadata": {},
   "source": [
    "- 用户可以直接创建帖子，支持标签，用户回复\n",
    "- 可对帖子标记喜欢，不喜欢，收藏"
   ]
  },
  {
   "cell_type": "markdown",
   "id": "0e1f0697",
   "metadata": {},
   "source": [
    "MySQL数据库设计\n",
    "- 帖子表posts\n",
    "    - id: 主键\n",
    "    - user_id: 发帖人ID\n",
    "    - title: 标题（可能为空，因为由评论转化的帖子可能没有标题）\n",
    "    - parent：上一个帖子，被转换的也有\n",
    "    - content: 内容\n",
    "    - source_type: comment|chat|direct\n",
    "    - source_id\n",
    "    - created_at\n",
    "    - updated_at\n",
    "- 帖子标签表tags，不用论坛的分类，用标签，多对多，更灵活\n",
    "- 帖子标签关联表post_tags\n",
    "- 帖子操作表post_actions"
   ]
  },
  {
   "cell_type": "markdown",
   "id": "0566cc49",
   "metadata": {},
   "source": []
  },
  {
   "cell_type": "markdown",
   "id": "69b00df3",
   "metadata": {},
   "source": [
    "## <center>第三版本 多端前端</center>"
   ]
  },
  {
   "cell_type": "markdown",
   "id": "ea22ceb3",
   "metadata": {},
   "source": [
    "### Vue项目设计及学习\n"
   ]
  },
  {
   "cell_type": "markdown",
   "id": "0294d1c5",
   "metadata": {},
   "source": [
    "不同颗粒度原型设计，对产品功能、界面结构、交互等方面进行定义\n",
    "  - 粗颗粒度\n",
    "    - 产品的整体框架和核心功能\n",
    "    - 不关注细节，快速验证产品和基本概念和方向\n",
    "    - 手绘草稿，简单工具\n",
    "    - 初步沟通，确认产品方向，快速迭代，探索多种可能性\n",
    "  - 中颗粒度\n",
    "    - 增加了更多细节，包括页面的布局，交互设计，部分视觉元素\n",
    "    - 详细布局：明确页面布局，控件摆放，页面之间的跳转关系\n",
    "    - 交互设计：包含基本的交互逻辑，如按钮点击，表单提交等\n",
    "    - 视觉初步：包含简单的视觉设计元素，如颜色，字体等，但不追求整体的效果\n",
    "    - 交互流程图：详细展示页面之间跳转逻辑和交互细节\n",
    "    - 应用场景：产品设计阶段，详细规划产品的功能和交互，明确开发需求，用户测试并收集反馈\n",
    "  - 细颗粒度\n",
    "    - 每一个细节精心设计，包括完整的视觉设计，交互细节，动画效果等\n",
    "    - 完整视觉：完整的视觉设计，包括颜色，字体，图标等，与最终产品一致\n",
    "    - 精细交互：包含所有交互细节，如动画效果，过渡效果等\n",
    "    - 高度保真：几乎与最终产品一致，用于用户测试和验收\n",
    "    - 产品开发阶段，用于知道开发人员进行界面开发\n",
    "    - 用户测试阶段，用于收集用户对最终产品的反馈\n",
    "    - 产品验收阶段，用于确认产品是否符合设计要求\n",
    "    - 高保真原型工具：Figma，Sketch等\n",
    "    - 可交互的动画原型工具：Principle，Framer等"
   ]
  },
  {
   "cell_type": "markdown",
   "id": "ea1c0793",
   "metadata": {},
   "source": [
    "功能，模块和文件组织划分\n",
    "- api请求模块化\n",
    "  - moduleA.js\n",
    "  - moduleB.js\n",
    "- 基础组件components\n",
    "  - common 公共组件, Element Plus组件的二次封装，Bootstrap组件二次封装\n",
    "  - 模块A 模块专用组件\n",
    "  - 模块B\n",
    "- 工具组件\n",
    "- 页面组件\n",
    "  - 模块A\n",
    "    - Page1.vue\n",
    "    - Page2.vue\n",
    "  - 模块B\n",
    "    - Page1.vue\n",
    "    - Page2.vue\n",
    "- 路由配置\n",
    "- 状态管理\n",
    "- 全局样式\n",
    "- 测试文件\n",
    "- 根组件\n",
    "- 应用入口"
   ]
  },
  {
   "cell_type": "markdown",
   "id": "2c734cc3",
   "metadata": {},
   "source": [
    "学习体验\n",
    "- Axio\n",
    "- Mock.js"
   ]
  },
  {
   "cell_type": "markdown",
   "id": "00fd9a62",
   "metadata": {},
   "source": [
    "### 项目demo"
   ]
  },
  {
   "cell_type": "markdown",
   "id": "113c7bb7",
   "metadata": {},
   "source": [
    "大屏网页"
   ]
  },
  {
   "cell_type": "markdown",
   "id": "b6b9dff0",
   "metadata": {},
   "source": [
    "桌面应用"
   ]
  },
  {
   "cell_type": "markdown",
   "id": "d854c67d",
   "metadata": {},
   "source": [
    "移动应用"
   ]
  },
  {
   "cell_type": "markdown",
   "id": "e4ffe831",
   "metadata": {},
   "source": [
    "移动网页"
   ]
  },
  {
   "cell_type": "markdown",
   "id": "a6a049f2",
   "metadata": {},
   "source": [
    "## <center>第四版本 算法开发</center>"
   ]
  }
 ],
 "metadata": {
  "kernelspec": {
   "display_name": "dev",
   "language": "python",
   "name": "python3"
  },
  "language_info": {
   "name": "python",
   "version": "3.13.3"
  }
 },
 "nbformat": 4,
 "nbformat_minor": 5
}
